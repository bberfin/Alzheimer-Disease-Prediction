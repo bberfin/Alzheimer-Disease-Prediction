{
  "nbformat": 4,
  "nbformat_minor": 0,
  "metadata": {
    "colab": {
      "provenance": [],
      "mount_file_id": "1I3qUz-kdmxjCGOxuDxhvZsK0lBc_pAzw",
      "authorship_tag": "ABX9TyNW0HAUC9/P6gOvG1oVVPjM"
    },
    "kernelspec": {
      "name": "python3",
      "display_name": "Python 3"
    },
    "language_info": {
      "name": "python"
    },
    "accelerator": "GPU",
    "gpuClass": "standard"
  },
  "cells": [
    {
      "cell_type": "code",
      "source": [
        "!unzip \"/content/drive/MyDrive/Colab Notebooks/archive.zip\""
      ],
      "metadata": {
        "id": "HBJvjyNl8IYL"
      },
      "execution_count": null,
      "outputs": []
    },
    {
      "cell_type": "code",
      "execution_count": 2,
      "metadata": {
        "id": "xpYUk3La6Yum"
      },
      "outputs": [],
      "source": [
        "#IMPORT LIBRARIES"
      ]
    },
    {
      "cell_type": "code",
      "source": [
        "import numpy as np\n",
        "import pandas as pd\n",
        "import matplotlib.pyplot as plt\n",
        "import seaborn as sn\n",
        "import skimage.io\n",
        "import os \n",
        "import tqdm\n",
        "import glob\n",
        "import tensorflow \n",
        "\n",
        "from tqdm import tqdm\n",
        "from sklearn.utils import shuffle\n",
        "from sklearn import metrics\n",
        "from sklearn.metrics import confusion_matrix, classification_report\n",
        "from sklearn.model_selection import train_test_split\n",
        "\n",
        "from skimage.io import imread, imshow\n",
        "from skimage.transform import resize\n",
        "from skimage.color import grey2rgb\n",
        "\n",
        "import tensorflow as tf\n",
        "from tensorflow.keras.preprocessing.image import ImageDataGenerator\n",
        "from tensorflow.keras.preprocessing import image_dataset_from_directory\n",
        "from tensorflow.keras.models import Sequential\n",
        "from tensorflow.keras.layers import InputLayer, BatchNormalization, Dropout, Flatten, Dense, Activation, MaxPool2D, Conv2D\n",
        "from tensorflow.keras.callbacks import EarlyStopping, ModelCheckpoint\n",
        "from tensorflow.keras.applications.vgg16 import VGG16 # VGG16\n",
        "from tensorflow.keras.applications.vgg19 import VGG19 # VGG19\n",
        "from tensorflow.keras.applications.resnet50 import ResNet50 # ResNet50\n",
        "from tensorflow.keras.applications.xception import Xception # Xception\n",
        "from tensorflow.keras.applications.mobilenet import MobileNet # MobileNet\n",
        "from tensorflow.keras.applications.nasnet import NASNetMobile # NASNetMobile\n",
        "from tensorflow.keras.applications.densenet import DenseNet169 # DenseNet169\n",
        "from tensorflow.keras.applications.densenet import DenseNet121 # DenseNet121\n",
        "from tensorflow.keras.applications.mobilenet_v2 import MobileNetV2 # MobileNetV2\n",
        "from tensorflow.keras.applications.inception_v3 import InceptionV3\n",
        "from tensorflow.keras.utils import to_categorical\n",
        "from keras import optimizers\n",
        "\n",
        "from keras.callbacks import Callback,ModelCheckpoint\n",
        "from keras.models import Sequential,load_model\n",
        "from keras.layers import Dense, Dropout\n",
        "from keras.wrappers.scikit_learn import KerasClassifier\n",
        "import keras.backend as K\n",
        "\n",
        "#import tensorflow_addons as tfa\n",
        "#from tensorflow.keras.metrics import Metric\n",
        "#from tensorflow_addons.utils.types import AcceptableDTypes, FloatTensorLike\n",
        "from typeguard import typechecked\n",
        "from typing import Optional"
      ],
      "metadata": {
        "id": "-TopirjH7f-T"
      },
      "execution_count": 3,
      "outputs": []
    },
    {
      "cell_type": "code",
      "source": [
        "AUTOTUNE = tf.data.experimental.AUTOTUNE"
      ],
      "metadata": {
        "id": "oBfo875E7ljO"
      },
      "execution_count": 4,
      "outputs": []
    },
    {
      "cell_type": "code",
      "source": [
        "train_datagen = ImageDataGenerator(rescale = 1./255,\n",
        "                                   validation_split = 0.2,\n",
        "                                  \n",
        "        rotation_range=5,\n",
        "        width_shift_range=0.2,\n",
        "        height_shift_range=0.2,\n",
        "        shear_range=0.2,\n",
        "        #zoom_range=0.2,\n",
        "        horizontal_flip=True,\n",
        "        vertical_flip=True,\n",
        "        fill_mode='nearest')\n",
        "\n",
        "valid_datagen = ImageDataGenerator(rescale = 1./255,\n",
        "                                  validation_split = 0.2)\n",
        "\n",
        "test_datagen  = ImageDataGenerator(rescale = 1./255\n",
        "                                  )"
      ],
      "metadata": {
        "id": "3Tgcltgf7q70"
      },
      "execution_count": 5,
      "outputs": []
    },
    {
      "cell_type": "code",
      "source": [
        "train_dataset  = train_datagen.flow_from_directory(directory = '/content/Alzheimer_s Dataset/train',\n",
        "                                                   target_size = (224,224),\n",
        "                                                   class_mode = 'categorical',\n",
        "                                                   subset = 'training',\n",
        "                                                   batch_size = 32)"
      ],
      "metadata": {
        "colab": {
          "base_uri": "https://localhost:8080/"
        },
        "id": "7ft3Zgc57yFl",
        "outputId": "1ec2d742-d65a-40a6-cdcd-afa3ece3b79d"
      },
      "execution_count": 6,
      "outputs": [
        {
          "output_type": "stream",
          "name": "stdout",
          "text": [
            "Found 4098 images belonging to 4 classes.\n"
          ]
        }
      ]
    },
    {
      "cell_type": "code",
      "source": [
        "valid_dataset = valid_datagen.flow_from_directory(directory = '/content/Alzheimer_s Dataset/train',\n",
        "                                                  target_size = (224,224),\n",
        "                                                  class_mode = 'categorical',\n",
        "                                                  subset = 'validation',\n",
        "                                                  batch_size = 32)"
      ],
      "metadata": {
        "colab": {
          "base_uri": "https://localhost:8080/"
        },
        "id": "gPh_Eyen8Nmi",
        "outputId": "b944e1e8-eede-4689-ab31-016025b9daa3"
      },
      "execution_count": 7,
      "outputs": [
        {
          "output_type": "stream",
          "name": "stdout",
          "text": [
            "Found 1023 images belonging to 4 classes.\n"
          ]
        }
      ]
    },
    {
      "cell_type": "code",
      "source": [
        "test_dataset = test_datagen.flow_from_directory(directory = '/content/Alzheimer_s Dataset/test',\n",
        "                                                  target_size = (224,224),\n",
        "                                                  class_mode = 'categorical',\n",
        "                                                  batch_size = 32)"
      ],
      "metadata": {
        "colab": {
          "base_uri": "https://localhost:8080/"
        },
        "id": "xR1k7r6Y8UaK",
        "outputId": "593f516f-d023-4122-f454-4fe533d081bc"
      },
      "execution_count": 8,
      "outputs": [
        {
          "output_type": "stream",
          "name": "stdout",
          "text": [
            "Found 1279 images belonging to 4 classes.\n"
          ]
        }
      ]
    },
    {
      "cell_type": "code",
      "source": [
        "#feature preprocessing and label encoding."
      ],
      "metadata": {
        "id": "tg-_eiPz8a0R"
      },
      "execution_count": 9,
      "outputs": []
    },
    {
      "cell_type": "code",
      "source": [
        "#MODEL BUILDING"
      ],
      "metadata": {
        "id": "BD-GZl9B8bsN"
      },
      "execution_count": 10,
      "outputs": []
    },
    {
      "cell_type": "code",
      "source": [
        "base_model = DenseNet121(input_shape=(224,224,3), \n",
        "                   include_top=False,\n",
        "                   weights=\"imagenet\")"
      ],
      "metadata": {
        "colab": {
          "base_uri": "https://localhost:8080/"
        },
        "id": "V6FULi3T8eDm",
        "outputId": "d0fcf101-e587-4d87-acdd-425dc2c1d915"
      },
      "execution_count": 11,
      "outputs": [
        {
          "output_type": "stream",
          "name": "stdout",
          "text": [
            "Downloading data from https://storage.googleapis.com/tensorflow/keras-applications/densenet/densenet121_weights_tf_dim_ordering_tf_kernels_notop.h5\n",
            "29084464/29084464 [==============================] - 2s 0us/step\n"
          ]
        }
      ]
    },
    {
      "cell_type": "code",
      "source": [
        "# Freezing Layers\n",
        "\n",
        "for layer in base_model.layers:\n",
        "    layer.trainable=False"
      ],
      "metadata": {
        "id": "LUTXzZ-T8ngM"
      },
      "execution_count": 12,
      "outputs": []
    },
    {
      "cell_type": "code",
      "source": [
        "# Building Model\n",
        "\n",
        "model=Sequential()\n",
        "model.add(base_model)\n",
        "model.add(Dropout(0.5))\n",
        "model.add(Flatten())\n",
        "model.add(BatchNormalization())\n",
        "model.add(Dense(64,kernel_initializer='he_uniform'))\n",
        "model.add(BatchNormalization())\n",
        "model.add(Activation('relu'))\n",
        "model.add(Dropout(0.5))\n",
        "model.add(Dense(64,kernel_initializer='he_uniform'))\n",
        "model.add(BatchNormalization())\n",
        "model.add(Activation('relu'))\n",
        "model.add(Dropout(0.5))\n",
        "model.add(Dense(64,kernel_initializer='he_uniform'))\n",
        "model.add(BatchNormalization())\n",
        "model.add(Activation('relu'))\n",
        "model.add(Dropout(0.5))\n",
        "model.add(Dense(32,kernel_initializer='he_uniform'))\n",
        "model.add(BatchNormalization())\n",
        "model.add(Activation('relu'))\n",
        "model.add(Dropout(0.5))\n",
        "model.add(Dense(32,kernel_initializer='he_uniform'))\n",
        "model.add(BatchNormalization())\n",
        "model.add(Activation('relu'))\n",
        "model.add(Dense(4,activation='softmax'))"
      ],
      "metadata": {
        "id": "-0ODDRu39tIs"
      },
      "execution_count": 13,
      "outputs": []
    },
    {
      "cell_type": "code",
      "source": [
        "# Model Summary\n",
        "\n",
        "model.summary()"
      ],
      "metadata": {
        "colab": {
          "base_uri": "https://localhost:8080/"
        },
        "id": "MXuyaDoO9zda",
        "outputId": "db1c6ef3-abbb-4a00-9f7a-752d56a81a07"
      },
      "execution_count": 14,
      "outputs": [
        {
          "output_type": "stream",
          "name": "stdout",
          "text": [
            "Model: \"sequential\"\n",
            "_________________________________________________________________\n",
            " Layer (type)                Output Shape              Param #   \n",
            "=================================================================\n",
            " densenet121 (Functional)    (None, 7, 7, 1024)        7037504   \n",
            "                                                                 \n",
            " dropout (Dropout)           (None, 7, 7, 1024)        0         \n",
            "                                                                 \n",
            " flatten (Flatten)           (None, 50176)             0         \n",
            "                                                                 \n",
            " batch_normalization (BatchN  (None, 50176)            200704    \n",
            " ormalization)                                                   \n",
            "                                                                 \n",
            " dense (Dense)               (None, 64)                3211328   \n",
            "                                                                 \n",
            " batch_normalization_1 (Batc  (None, 64)               256       \n",
            " hNormalization)                                                 \n",
            "                                                                 \n",
            " activation (Activation)     (None, 64)                0         \n",
            "                                                                 \n",
            " dropout_1 (Dropout)         (None, 64)                0         \n",
            "                                                                 \n",
            " dense_1 (Dense)             (None, 64)                4160      \n",
            "                                                                 \n",
            " batch_normalization_2 (Batc  (None, 64)               256       \n",
            " hNormalization)                                                 \n",
            "                                                                 \n",
            " activation_1 (Activation)   (None, 64)                0         \n",
            "                                                                 \n",
            " dropout_2 (Dropout)         (None, 64)                0         \n",
            "                                                                 \n",
            " dense_2 (Dense)             (None, 64)                4160      \n",
            "                                                                 \n",
            " batch_normalization_3 (Batc  (None, 64)               256       \n",
            " hNormalization)                                                 \n",
            "                                                                 \n",
            " activation_2 (Activation)   (None, 64)                0         \n",
            "                                                                 \n",
            " dropout_3 (Dropout)         (None, 64)                0         \n",
            "                                                                 \n",
            " dense_3 (Dense)             (None, 32)                2080      \n",
            "                                                                 \n",
            " batch_normalization_4 (Batc  (None, 32)               128       \n",
            " hNormalization)                                                 \n",
            "                                                                 \n",
            " activation_3 (Activation)   (None, 32)                0         \n",
            "                                                                 \n",
            " dropout_4 (Dropout)         (None, 32)                0         \n",
            "                                                                 \n",
            " dense_4 (Dense)             (None, 32)                1056      \n",
            "                                                                 \n",
            " batch_normalization_5 (Batc  (None, 32)               128       \n",
            " hNormalization)                                                 \n",
            "                                                                 \n",
            " activation_4 (Activation)   (None, 32)                0         \n",
            "                                                                 \n",
            " dense_5 (Dense)             (None, 4)                 132       \n",
            "                                                                 \n",
            "=================================================================\n",
            "Total params: 10,462,148\n",
            "Trainable params: 3,323,780\n",
            "Non-trainable params: 7,138,368\n",
            "_________________________________________________________________\n"
          ]
        }
      ]
    },
    {
      "cell_type": "code",
      "source": [
        "def f1_score(y_true, y_pred): \n",
        "    true_positives = K.sum(K.round(K.clip(y_true * y_pred, 0, 1)))\n",
        "    possible_positives = K.sum(K.round(K.clip(y_true, 0, 1)))\n",
        "    predicted_positives = K.sum(K.round(K.clip(y_pred, 0, 1)))\n",
        "    precision = true_positives / (predicted_positives + K.epsilon())\n",
        "    recall = true_positives / (possible_positives + K.epsilon())\n",
        "    f1_val = 2*(precision*recall)/(precision+recall+K.epsilon())\n",
        "    return f1_val"
      ],
      "metadata": {
        "id": "iuIkrPO392nQ"
      },
      "execution_count": 15,
      "outputs": []
    },
    {
      "cell_type": "code",
      "source": [
        "METRICS = [\n",
        "      tf.keras.metrics.BinaryAccuracy(name='accuracy'),\n",
        "      tf.keras.metrics.Precision(name='precision'),\n",
        "      tf.keras.metrics.Recall(name='recall'),  \n",
        "      tf.keras.metrics.AUC(name='auc'),\n",
        "        f1_score,\n",
        "]"
      ],
      "metadata": {
        "id": "hNsxan7e96vD"
      },
      "execution_count": 16,
      "outputs": []
    },
    {
      "cell_type": "code",
      "source": [
        "def exponential_decay(lr0, s):\n",
        "    def exponential_decay_fn(epoch):\n",
        "        return lr0 * 0.1 **(epoch / s)\n",
        "    return exponential_decay_fn\n",
        "\n",
        "exponential_decay_fn = exponential_decay(0.01, 5) # when i run it for 50 epochs\n",
        "\n",
        "lr_scheduler = tf.keras.callbacks.LearningRateScheduler(exponential_decay_fn)"
      ],
      "metadata": {
        "id": "YTOlY7pM99p-"
      },
      "execution_count": 17,
      "outputs": []
    },
    {
      "cell_type": "code",
      "source": [
        "model.compile(optimizer='rmsprop', loss='categorical_crossentropy',metrics=METRICS)"
      ],
      "metadata": {
        "id": "Blv_oFNh-LFs"
      },
      "execution_count": 18,
      "outputs": []
    },
    {
      "cell_type": "code",
      "source": [
        "history=model.fit(train_dataset,\n",
        "                        validation_data=valid_dataset,\n",
        "                        epochs = 50,\n",
        "                        verbose = 1,\n",
        "                         callbacks=lr_scheduler)"
      ],
      "metadata": {
        "colab": {
          "base_uri": "https://localhost:8080/"
        },
        "id": "T2QjYOdm-s65",
        "outputId": "ea17d598-77a1-47eb-a4b6-e40f43f80efa"
      },
      "execution_count": 19,
      "outputs": [
        {
          "output_type": "stream",
          "name": "stdout",
          "text": [
            "Epoch 1/50\n",
            "129/129 [==============================] - 74s 445ms/step - loss: 1.0974 - accuracy: 0.7479 - precision: 0.4916 - recall: 0.2501 - auc: 0.7669 - f1_score: 0.3260 - val_loss: 1.0964 - val_accuracy: 0.7515 - val_precision: 0.5029 - val_recall: 0.5005 - val_auc: 0.8104 - val_f1_score: 0.5016 - lr: 0.0100\n",
            "Epoch 2/50\n",
            "129/129 [==============================] - 55s 424ms/step - loss: 1.0545 - accuracy: 0.7507 - precision: 0.5032 - recall: 0.2079 - auc: 0.7797 - f1_score: 0.2890 - val_loss: 1.1082 - val_accuracy: 0.7573 - val_precision: 0.7419 - val_recall: 0.0450 - val_auc: 0.7342 - val_f1_score: 0.0828 - lr: 0.0063\n",
            "Epoch 3/50\n",
            "129/129 [==============================] - 52s 407ms/step - loss: 1.0310 - accuracy: 0.7626 - precision: 0.5642 - recall: 0.2218 - auc: 0.7892 - f1_score: 0.3177 - val_loss: 1.0207 - val_accuracy: 0.7715 - val_precision: 0.6833 - val_recall: 0.1603 - val_auc: 0.8062 - val_f1_score: 0.2543 - lr: 0.0040\n",
            "Epoch 4/50\n",
            "129/129 [==============================] - 51s 393ms/step - loss: 1.0064 - accuracy: 0.7745 - precision: 0.6434 - recall: 0.2201 - auc: 0.8003 - f1_score: 0.3276 - val_loss: 0.9923 - val_accuracy: 0.7827 - val_precision: 0.7428 - val_recall: 0.2004 - val_auc: 0.8119 - val_f1_score: 0.3087 - lr: 0.0025\n",
            "Epoch 5/50\n",
            "129/129 [==============================] - 50s 390ms/step - loss: 0.9912 - accuracy: 0.7797 - precision: 0.6721 - recall: 0.2321 - auc: 0.8062 - f1_score: 0.3457 - val_loss: 0.9794 - val_accuracy: 0.7825 - val_precision: 0.7692 - val_recall: 0.1857 - val_auc: 0.8168 - val_f1_score: 0.2921 - lr: 0.0016\n",
            "Epoch 6/50\n",
            "129/129 [==============================] - 50s 391ms/step - loss: 0.9813 - accuracy: 0.7834 - precision: 0.6995 - recall: 0.2340 - auc: 0.8092 - f1_score: 0.3543 - val_loss: 0.9804 - val_accuracy: 0.7830 - val_precision: 0.7974 - val_recall: 0.1769 - val_auc: 0.8181 - val_f1_score: 0.2834 - lr: 0.0010\n",
            "Epoch 7/50\n",
            "129/129 [==============================] - 55s 426ms/step - loss: 0.9814 - accuracy: 0.7824 - precision: 0.7038 - recall: 0.2238 - auc: 0.8072 - f1_score: 0.3412 - val_loss: 0.9779 - val_accuracy: 0.7847 - val_precision: 0.8008 - val_recall: 0.1848 - val_auc: 0.8198 - val_f1_score: 0.2939 - lr: 6.3096e-04\n",
            "Epoch 8/50\n",
            "129/129 [==============================] - 50s 391ms/step - loss: 0.9731 - accuracy: 0.7853 - precision: 0.7215 - recall: 0.2301 - auc: 0.8158 - f1_score: 0.3486 - val_loss: 0.9747 - val_accuracy: 0.7852 - val_precision: 0.8000 - val_recall: 0.1877 - val_auc: 0.8193 - val_f1_score: 0.3013 - lr: 3.9811e-04\n",
            "Epoch 9/50\n",
            "129/129 [==============================] - 50s 390ms/step - loss: 0.9680 - accuracy: 0.7866 - precision: 0.7290 - recall: 0.2330 - auc: 0.8174 - f1_score: 0.3563 - val_loss: 0.9730 - val_accuracy: 0.7859 - val_precision: 0.8025 - val_recall: 0.1906 - val_auc: 0.8214 - val_f1_score: 0.3046 - lr: 2.5119e-04\n",
            "Epoch 10/50\n",
            "129/129 [==============================] - 52s 404ms/step - loss: 0.9622 - accuracy: 0.7869 - precision: 0.7252 - recall: 0.2377 - auc: 0.8187 - f1_score: 0.3590 - val_loss: 0.9709 - val_accuracy: 0.7869 - val_precision: 0.8008 - val_recall: 0.1965 - val_auc: 0.8202 - val_f1_score: 0.3086 - lr: 1.5849e-04\n",
            "Epoch 11/50\n",
            "129/129 [==============================] - 50s 391ms/step - loss: 0.9746 - accuracy: 0.7853 - precision: 0.7163 - recall: 0.2335 - auc: 0.8151 - f1_score: 0.3534 - val_loss: 0.9699 - val_accuracy: 0.7871 - val_precision: 0.8016 - val_recall: 0.1975 - val_auc: 0.8198 - val_f1_score: 0.3144 - lr: 1.0000e-04\n",
            "Epoch 12/50\n",
            "129/129 [==============================] - 50s 391ms/step - loss: 0.9712 - accuracy: 0.7863 - precision: 0.7301 - recall: 0.2304 - auc: 0.8155 - f1_score: 0.3462 - val_loss: 0.9724 - val_accuracy: 0.7859 - val_precision: 0.8050 - val_recall: 0.1896 - val_auc: 0.8188 - val_f1_score: 0.3022 - lr: 6.3096e-05\n",
            "Epoch 13/50\n",
            "129/129 [==============================] - 54s 416ms/step - loss: 0.9685 - accuracy: 0.7887 - precision: 0.7394 - recall: 0.2389 - auc: 0.8189 - f1_score: 0.3608 - val_loss: 0.9698 - val_accuracy: 0.7876 - val_precision: 0.8056 - val_recall: 0.1984 - val_auc: 0.8203 - val_f1_score: 0.3126 - lr: 3.9811e-05\n",
            "Epoch 14/50\n",
            "129/129 [==============================] - 50s 388ms/step - loss: 0.9614 - accuracy: 0.7881 - precision: 0.7398 - recall: 0.2352 - auc: 0.8178 - f1_score: 0.3579 - val_loss: 0.9704 - val_accuracy: 0.7871 - val_precision: 0.8040 - val_recall: 0.1965 - val_auc: 0.8200 - val_f1_score: 0.3096 - lr: 2.5119e-05\n",
            "Epoch 15/50\n",
            "129/129 [==============================] - 50s 388ms/step - loss: 0.9691 - accuracy: 0.7873 - precision: 0.7404 - recall: 0.2296 - auc: 0.8174 - f1_score: 0.3502 - val_loss: 0.9696 - val_accuracy: 0.7874 - val_precision: 0.8000 - val_recall: 0.1994 - val_auc: 0.8197 - val_f1_score: 0.3147 - lr: 1.5849e-05\n",
            "Epoch 16/50\n",
            "129/129 [==============================] - 51s 396ms/step - loss: 0.9560 - accuracy: 0.7892 - precision: 0.7510 - recall: 0.2347 - auc: 0.8192 - f1_score: 0.3569 - val_loss: 0.9727 - val_accuracy: 0.7859 - val_precision: 0.8075 - val_recall: 0.1887 - val_auc: 0.8176 - val_f1_score: 0.3004 - lr: 1.0000e-05\n",
            "Epoch 17/50\n",
            "129/129 [==============================] - 51s 394ms/step - loss: 0.9676 - accuracy: 0.7864 - precision: 0.7234 - recall: 0.2355 - auc: 0.8192 - f1_score: 0.3518 - val_loss: 0.9707 - val_accuracy: 0.7871 - val_precision: 0.8040 - val_recall: 0.1965 - val_auc: 0.8201 - val_f1_score: 0.3111 - lr: 6.3096e-06\n",
            "Epoch 18/50\n",
            "129/129 [==============================] - 56s 435ms/step - loss: 0.9749 - accuracy: 0.7862 - precision: 0.7269 - recall: 0.2318 - auc: 0.8168 - f1_score: 0.3525 - val_loss: 0.9716 - val_accuracy: 0.7867 - val_precision: 0.8074 - val_recall: 0.1926 - val_auc: 0.8190 - val_f1_score: 0.3041 - lr: 3.9811e-06\n",
            "Epoch 19/50\n",
            "129/129 [==============================] - 50s 389ms/step - loss: 0.9641 - accuracy: 0.7857 - precision: 0.7273 - recall: 0.2284 - auc: 0.8173 - f1_score: 0.3509 - val_loss: 0.9710 - val_accuracy: 0.7869 - val_precision: 0.8032 - val_recall: 0.1955 - val_auc: 0.8189 - val_f1_score: 0.3097 - lr: 2.5119e-06\n",
            "Epoch 20/50\n",
            "129/129 [==============================] - 50s 390ms/step - loss: 0.9670 - accuracy: 0.7870 - precision: 0.7338 - recall: 0.2321 - auc: 0.8178 - f1_score: 0.3485 - val_loss: 0.9735 - val_accuracy: 0.7854 - val_precision: 0.8059 - val_recall: 0.1867 - val_auc: 0.8191 - val_f1_score: 0.2995 - lr: 1.5849e-06\n",
            "Epoch 21/50\n",
            "129/129 [==============================] - 50s 391ms/step - loss: 0.9647 - accuracy: 0.7879 - precision: 0.7340 - recall: 0.2377 - auc: 0.8181 - f1_score: 0.3585 - val_loss: 0.9715 - val_accuracy: 0.7867 - val_precision: 0.8099 - val_recall: 0.1916 - val_auc: 0.8196 - val_f1_score: 0.3039 - lr: 1.0000e-06\n",
            "Epoch 22/50\n",
            "129/129 [==============================] - 52s 401ms/step - loss: 0.9614 - accuracy: 0.7878 - precision: 0.7414 - recall: 0.2323 - auc: 0.8156 - f1_score: 0.3501 - val_loss: 0.9714 - val_accuracy: 0.7859 - val_precision: 0.8050 - val_recall: 0.1896 - val_auc: 0.8194 - val_f1_score: 0.3020 - lr: 6.3096e-07\n",
            "Epoch 23/50\n",
            "129/129 [==============================] - 53s 412ms/step - loss: 0.9659 - accuracy: 0.7887 - precision: 0.7431 - recall: 0.2365 - auc: 0.8178 - f1_score: 0.3586 - val_loss: 0.9737 - val_accuracy: 0.7847 - val_precision: 0.8034 - val_recall: 0.1838 - val_auc: 0.8184 - val_f1_score: 0.2952 - lr: 3.9811e-07\n",
            "Epoch 24/50\n",
            "129/129 [==============================] - 50s 388ms/step - loss: 0.9676 - accuracy: 0.7883 - precision: 0.7316 - recall: 0.2421 - auc: 0.8168 - f1_score: 0.3650 - val_loss: 0.9718 - val_accuracy: 0.7862 - val_precision: 0.8083 - val_recall: 0.1896 - val_auc: 0.8193 - val_f1_score: 0.3002 - lr: 2.5119e-07\n",
            "Epoch 25/50\n",
            "129/129 [==============================] - 50s 387ms/step - loss: 0.9563 - accuracy: 0.7871 - precision: 0.7338 - recall: 0.2328 - auc: 0.8200 - f1_score: 0.3496 - val_loss: 0.9714 - val_accuracy: 0.7857 - val_precision: 0.8042 - val_recall: 0.1887 - val_auc: 0.8194 - val_f1_score: 0.2982 - lr: 1.5849e-07\n",
            "Epoch 26/50\n",
            "129/129 [==============================] - 52s 400ms/step - loss: 0.9671 - accuracy: 0.7856 - precision: 0.7200 - recall: 0.2328 - auc: 0.8163 - f1_score: 0.3481 - val_loss: 0.9684 - val_accuracy: 0.7871 - val_precision: 0.7946 - val_recall: 0.2004 - val_auc: 0.8203 - val_f1_score: 0.3149 - lr: 1.0000e-07\n",
            "Epoch 27/50\n",
            "129/129 [==============================] - 50s 387ms/step - loss: 0.9620 - accuracy: 0.7868 - precision: 0.7302 - recall: 0.2338 - auc: 0.8174 - f1_score: 0.3542 - val_loss: 0.9701 - val_accuracy: 0.7874 - val_precision: 0.8072 - val_recall: 0.1965 - val_auc: 0.8205 - val_f1_score: 0.3112 - lr: 6.3096e-08\n",
            "Epoch 28/50\n",
            "129/129 [==============================] - 50s 389ms/step - loss: 0.9669 - accuracy: 0.7865 - precision: 0.7271 - recall: 0.2340 - auc: 0.8178 - f1_score: 0.3504 - val_loss: 0.9692 - val_accuracy: 0.7869 - val_precision: 0.7961 - val_recall: 0.1984 - val_auc: 0.8210 - val_f1_score: 0.3127 - lr: 3.9811e-08\n",
            "Epoch 29/50\n",
            "129/129 [==============================] - 54s 415ms/step - loss: 0.9689 - accuracy: 0.7853 - precision: 0.7169 - recall: 0.2335 - auc: 0.8151 - f1_score: 0.3486 - val_loss: 0.9706 - val_accuracy: 0.7869 - val_precision: 0.8082 - val_recall: 0.1935 - val_auc: 0.8201 - val_f1_score: 0.3073 - lr: 2.5119e-08\n",
            "Epoch 30/50\n",
            "129/129 [==============================] - 51s 391ms/step - loss: 0.9663 - accuracy: 0.7880 - precision: 0.7351 - recall: 0.2377 - auc: 0.8201 - f1_score: 0.3591 - val_loss: 0.9681 - val_accuracy: 0.7871 - val_precision: 0.7946 - val_recall: 0.2004 - val_auc: 0.8209 - val_f1_score: 0.3165 - lr: 1.5849e-08\n",
            "Epoch 31/50\n",
            "129/129 [==============================] - 50s 390ms/step - loss: 0.9622 - accuracy: 0.7856 - precision: 0.7195 - recall: 0.2335 - auc: 0.8158 - f1_score: 0.3532 - val_loss: 0.9712 - val_accuracy: 0.7867 - val_precision: 0.8099 - val_recall: 0.1916 - val_auc: 0.8202 - val_f1_score: 0.3060 - lr: 1.0000e-08\n",
            "Epoch 32/50\n",
            "129/129 [==============================] - 51s 391ms/step - loss: 0.9640 - accuracy: 0.7863 - precision: 0.7287 - recall: 0.2313 - auc: 0.8160 - f1_score: 0.3475 - val_loss: 0.9718 - val_accuracy: 0.7867 - val_precision: 0.8099 - val_recall: 0.1916 - val_auc: 0.8191 - val_f1_score: 0.3052 - lr: 6.3096e-09\n",
            "Epoch 33/50\n",
            "129/129 [==============================] - 52s 401ms/step - loss: 0.9638 - accuracy: 0.7873 - precision: 0.7387 - recall: 0.2311 - auc: 0.8195 - f1_score: 0.3554 - val_loss: 0.9731 - val_accuracy: 0.7854 - val_precision: 0.8059 - val_recall: 0.1867 - val_auc: 0.8178 - val_f1_score: 0.3000 - lr: 3.9811e-09\n",
            "Epoch 34/50\n",
            "129/129 [==============================] - 54s 419ms/step - loss: 0.9706 - accuracy: 0.7866 - precision: 0.7304 - recall: 0.2321 - auc: 0.8136 - f1_score: 0.3484 - val_loss: 0.9727 - val_accuracy: 0.7859 - val_precision: 0.8075 - val_recall: 0.1887 - val_auc: 0.8201 - val_f1_score: 0.3011 - lr: 2.5119e-09\n",
            "Epoch 35/50\n",
            "129/129 [==============================] - 50s 390ms/step - loss: 0.9624 - accuracy: 0.7876 - precision: 0.7386 - recall: 0.2330 - auc: 0.8179 - f1_score: 0.3501 - val_loss: 0.9730 - val_accuracy: 0.7849 - val_precision: 0.8043 - val_recall: 0.1848 - val_auc: 0.8194 - val_f1_score: 0.2954 - lr: 1.5849e-09\n",
            "Epoch 36/50\n",
            "129/129 [==============================] - 50s 390ms/step - loss: 0.9696 - accuracy: 0.7861 - precision: 0.7223 - recall: 0.2343 - auc: 0.8154 - f1_score: 0.3554 - val_loss: 0.9696 - val_accuracy: 0.7871 - val_precision: 0.8065 - val_recall: 0.1955 - val_auc: 0.8201 - val_f1_score: 0.3107 - lr: 1.0000e-09\n",
            "Epoch 37/50\n",
            "129/129 [==============================] - 51s 394ms/step - loss: 0.9674 - accuracy: 0.7865 - precision: 0.7255 - recall: 0.2347 - auc: 0.8145 - f1_score: 0.3561 - val_loss: 0.9706 - val_accuracy: 0.7869 - val_precision: 0.8032 - val_recall: 0.1955 - val_auc: 0.8202 - val_f1_score: 0.3099 - lr: 6.3096e-10\n",
            "Epoch 38/50\n",
            "129/129 [==============================] - 51s 392ms/step - loss: 0.9624 - accuracy: 0.7892 - precision: 0.7447 - recall: 0.2384 - auc: 0.8178 - f1_score: 0.3640 - val_loss: 0.9732 - val_accuracy: 0.7857 - val_precision: 0.8067 - val_recall: 0.1877 - val_auc: 0.8189 - val_f1_score: 0.2996 - lr: 3.9811e-10\n",
            "Epoch 39/50\n",
            "129/129 [==============================] - 53s 414ms/step - loss: 0.9750 - accuracy: 0.7862 - precision: 0.7304 - recall: 0.2294 - auc: 0.8136 - f1_score: 0.3456 - val_loss: 0.9716 - val_accuracy: 0.7871 - val_precision: 0.8065 - val_recall: 0.1955 - val_auc: 0.8192 - val_f1_score: 0.3099 - lr: 2.5119e-10\n",
            "Epoch 40/50\n",
            "129/129 [==============================] - 52s 399ms/step - loss: 0.9719 - accuracy: 0.7874 - precision: 0.7306 - recall: 0.2369 - auc: 0.8154 - f1_score: 0.3537 - val_loss: 0.9708 - val_accuracy: 0.7869 - val_precision: 0.8032 - val_recall: 0.1955 - val_auc: 0.8211 - val_f1_score: 0.3106 - lr: 1.5849e-10\n",
            "Epoch 41/50\n",
            "129/129 [==============================] - 50s 387ms/step - loss: 0.9631 - accuracy: 0.7874 - precision: 0.7306 - recall: 0.2369 - auc: 0.8170 - f1_score: 0.3585 - val_loss: 0.9711 - val_accuracy: 0.7864 - val_precision: 0.8016 - val_recall: 0.1935 - val_auc: 0.8211 - val_f1_score: 0.3064 - lr: 1.0000e-10\n",
            "Epoch 42/50\n",
            "129/129 [==============================] - 50s 388ms/step - loss: 0.9673 - accuracy: 0.7872 - precision: 0.7311 - recall: 0.2355 - auc: 0.8161 - f1_score: 0.3570 - val_loss: 0.9701 - val_accuracy: 0.7871 - val_precision: 0.8016 - val_recall: 0.1975 - val_auc: 0.8213 - val_f1_score: 0.3146 - lr: 6.3096e-11\n",
            "Epoch 43/50\n",
            "129/129 [==============================] - 50s 385ms/step - loss: 0.9611 - accuracy: 0.7877 - precision: 0.7344 - recall: 0.2362 - auc: 0.8189 - f1_score: 0.3573 - val_loss: 0.9713 - val_accuracy: 0.7862 - val_precision: 0.8008 - val_recall: 0.1926 - val_auc: 0.8213 - val_f1_score: 0.3046 - lr: 3.9811e-11\n",
            "Epoch 44/50\n",
            "129/129 [==============================] - 55s 423ms/step - loss: 0.9598 - accuracy: 0.7899 - precision: 0.7477 - recall: 0.2408 - auc: 0.8223 - f1_score: 0.3646 - val_loss: 0.9709 - val_accuracy: 0.7862 - val_precision: 0.8008 - val_recall: 0.1926 - val_auc: 0.8207 - val_f1_score: 0.3070 - lr: 2.5119e-11\n",
            "Epoch 45/50\n",
            "129/129 [==============================] - 50s 386ms/step - loss: 0.9679 - accuracy: 0.7859 - precision: 0.7207 - recall: 0.2343 - auc: 0.8169 - f1_score: 0.3501 - val_loss: 0.9699 - val_accuracy: 0.7869 - val_precision: 0.8008 - val_recall: 0.1965 - val_auc: 0.8207 - val_f1_score: 0.3105 - lr: 1.5849e-11\n",
            "Epoch 46/50\n",
            "129/129 [==============================] - 50s 389ms/step - loss: 0.9638 - accuracy: 0.7875 - precision: 0.7391 - recall: 0.2316 - auc: 0.8172 - f1_score: 0.3487 - val_loss: 0.9721 - val_accuracy: 0.7862 - val_precision: 0.8083 - val_recall: 0.1896 - val_auc: 0.8192 - val_f1_score: 0.3034 - lr: 1.0000e-11\n",
            "Epoch 47/50\n",
            "129/129 [==============================] - 50s 391ms/step - loss: 0.9667 - accuracy: 0.7858 - precision: 0.7302 - recall: 0.2272 - auc: 0.8181 - f1_score: 0.3493 - val_loss: 0.9738 - val_accuracy: 0.7852 - val_precision: 0.8051 - val_recall: 0.1857 - val_auc: 0.8193 - val_f1_score: 0.2958 - lr: 6.3096e-12\n",
            "Epoch 48/50\n",
            "129/129 [==============================] - 52s 400ms/step - loss: 0.9592 - accuracy: 0.7875 - precision: 0.7358 - recall: 0.2338 - auc: 0.8201 - f1_score: 0.3546 - val_loss: 0.9723 - val_accuracy: 0.7854 - val_precision: 0.8059 - val_recall: 0.1867 - val_auc: 0.8194 - val_f1_score: 0.3007 - lr: 3.9811e-12\n",
            "Epoch 49/50\n",
            "129/129 [==============================] - 53s 410ms/step - loss: 0.9758 - accuracy: 0.7844 - precision: 0.7176 - recall: 0.2269 - auc: 0.8146 - f1_score: 0.3409 - val_loss: 0.9705 - val_accuracy: 0.7864 - val_precision: 0.8016 - val_recall: 0.1935 - val_auc: 0.8201 - val_f1_score: 0.3095 - lr: 2.5119e-12\n",
            "Epoch 50/50\n",
            "129/129 [==============================] - 50s 386ms/step - loss: 0.9613 - accuracy: 0.7865 - precision: 0.7228 - recall: 0.2367 - auc: 0.8175 - f1_score: 0.3576 - val_loss: 0.9704 - val_accuracy: 0.7874 - val_precision: 0.8048 - val_recall: 0.1975 - val_auc: 0.8207 - val_f1_score: 0.3141 - lr: 1.5849e-12\n"
          ]
        }
      ]
    },
    {
      "cell_type": "code",
      "source": [
        "#%% PLOTTING RESULTS (Train vs Validation FOLDER 1)\n",
        "\n",
        "def Train_Val_Plot(acc,val_acc,loss,val_loss,auc,val_auc,precision,val_precision,f1,val_f1):\n",
        "    \n",
        "    fig, (ax1, ax2,ax3,ax4,ax5) = plt.subplots(1,5, figsize= (20,5))\n",
        "    fig.suptitle(\" MODEL'S METRICS VISUALIZATION \")\n",
        "\n",
        "    ax1.plot(range(1, len(acc) + 1), acc)\n",
        "    ax1.plot(range(1, len(val_acc) + 1), val_acc)\n",
        "    ax1.set_title('History of Accuracy')\n",
        "    ax1.set_xlabel('Epochs')\n",
        "    ax1.set_ylabel('Accuracy')\n",
        "    ax1.legend(['training', 'validation'])\n",
        "\n",
        "\n",
        "    ax2.plot(range(1, len(loss) + 1), loss)\n",
        "    ax2.plot(range(1, len(val_loss) + 1), val_loss)\n",
        "    ax2.set_title('History of Loss')\n",
        "    ax2.set_xlabel('Epochs')\n",
        "    ax2.set_ylabel('Loss')\n",
        "    ax2.legend(['training', 'validation'])\n",
        "    \n",
        "    ax3.plot(range(1, len(auc) + 1), auc)\n",
        "    ax3.plot(range(1, len(val_auc) + 1), val_auc)\n",
        "    ax3.set_title('History of AUC')\n",
        "    ax3.set_xlabel('Epochs')\n",
        "    ax3.set_ylabel('AUC')\n",
        "    ax3.legend(['training', 'validation'])\n",
        "    \n",
        "    ax4.plot(range(1, len(precision) + 1), precision)\n",
        "    ax4.plot(range(1, len(val_precision) + 1), val_precision)\n",
        "    ax4.set_title('History of Precision')\n",
        "    ax4.set_xlabel('Epochs')\n",
        "    ax4.set_ylabel('Precision')\n",
        "    ax4.legend(['training', 'validation'])\n",
        "    \n",
        "    ax5.plot(range(1, len(f1) + 1), f1)\n",
        "    ax5.plot(range(1, len(val_f1) + 1), val_f1)\n",
        "    ax5.set_title('History of F1-score')\n",
        "    ax5.set_xlabel('Epochs')\n",
        "    ax5.set_ylabel('F1 score')\n",
        "    ax5.legend(['training', 'validation'])\n",
        "\n",
        "\n",
        "    plt.show()\n",
        "    \n",
        "\n",
        "Train_Val_Plot(history.history['accuracy'],history.history['val_accuracy'],\n",
        "               history.history['loss'],history.history['val_loss'],\n",
        "               history.history['auc'],history.history['val_auc'],\n",
        "               history.history['precision'],history.history['val_precision'],\n",
        "               history.history['f1_score'],history.history['val_f1_score']\n",
        "              )"
      ],
      "metadata": {
        "colab": {
          "base_uri": "https://localhost:8080/",
          "height": 352
        },
        "id": "WpVgpuKWDOuX",
        "outputId": "7eddf024-4796-454c-c951-c2ddcba4fdc5"
      },
      "execution_count": 20,
      "outputs": [
        {
          "output_type": "display_data",
          "data": {
            "text/plain": [
              "<Figure size 1440x360 with 5 Axes>"
            ],
            "image/png": "[encoded data removed]"
          },
          "metadata": {
            "needs_background": "light"
          }
        }
      ]
    },
    {
      "cell_type": "code",
      "source": [
        "scores = model.evaluate(test_dataset)"
      ],
      "metadata": {
        "colab": {
          "base_uri": "https://localhost:8080/"
        },
        "id": "Jl1yt7EqDTiI",
        "outputId": "316a5662-7191-4d21-81fd-e255c8a854cf"
      },
      "execution_count": 21,
      "outputs": [
        {
          "output_type": "stream",
          "name": "stdout",
          "text": [
            "40/40 [==============================] - 4s 101ms/step - loss: 0.9535 - accuracy: 0.7901 - precision: 0.7167 - recall: 0.2651 - auc: 0.8232 - f1_score: 0.3819\n"
          ]
        }
      ]
    },
    {
      "cell_type": "code",
      "source": [
        "print(\"Accuracy = \", scores[1])\n",
        "print(\"Precision = \", scores[2])\n",
        "print(\"Recall = \", scores[3])\n",
        "print(\"AUC = \", scores[4])\n",
        "print(\"F1_score = \", scores[5])"
      ],
      "metadata": {
        "colab": {
          "base_uri": "https://localhost:8080/"
        },
        "id": "MeHh__quDnJH",
        "outputId": "9cca3f75-b91a-4b42-dcbe-46b18e468671"
      },
      "execution_count": 22,
      "outputs": [
        {
          "output_type": "stream",
          "name": "stdout",
          "text": [
            "Accuracy =  0.7900703549385071\n",
            "Precision =  0.7167019248008728\n",
            "Recall =  0.26505082845687866\n",
            "AUC =  0.8232200145721436\n",
            "F1_score =  0.3819218873977661\n"
          ]
        }
      ]
    }
  ]
}