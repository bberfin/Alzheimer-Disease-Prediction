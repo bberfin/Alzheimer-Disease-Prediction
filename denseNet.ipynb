{
  "nbformat": 4,
  "nbformat_minor": 0,
  "metadata": {
    "colab": {
      "provenance": [],
      "mount_file_id": "1R6rGtSUkbHkIhVb03UM13EShUHJjT7mb",
      "authorship_tag": "ABX9TyPsyQCdflBM3FlG7r4Neqtq"
    },
    "kernelspec": {
      "name": "python3",
      "display_name": "Python 3"
    },
    "language_info": {
      "name": "python"
    },
    "accelerator": "GPU",
    "gpuClass": "standard"
  },
  "cells": [
    {
      "cell_type": "code",
      "execution_count": null,
      "metadata": {
        "id": "tpuh6thtcAjN"
      },
      "outputs": [],
      "source": [
        "!unzip \"/content/drive/MyDrive/Colab Notebooks/archive.zip\""
      ]
    },
    {
      "cell_type": "code",
      "source": [
        "#IMPORT LIBRARIES"
      ],
      "metadata": {
        "id": "V2WClf0KcXLB"
      },
      "execution_count": 2,
      "outputs": []
    },
    {
      "cell_type": "code",
      "source": [
        "import numpy as np\n",
        "import pandas as pd\n",
        "import matplotlib.pyplot as plt\n",
        "import seaborn as sn\n",
        "import skimage.io\n",
        "import os \n",
        "import tqdm\n",
        "import glob\n",
        "import tensorflow \n",
        "\n",
        "from tqdm import tqdm\n",
        "from sklearn.utils import shuffle\n",
        "from sklearn import metrics\n",
        "from sklearn.metrics import confusion_matrix, classification_report\n",
        "from sklearn.model_selection import train_test_split\n",
        "\n",
        "from skimage.io import imread, imshow\n",
        "from skimage.transform import resize\n",
        "from skimage.color import grey2rgb\n",
        "\n",
        "import tensorflow as tf\n",
        "from tensorflow.keras.preprocessing.image import ImageDataGenerator\n",
        "from tensorflow.keras.preprocessing import image_dataset_from_directory\n",
        "from tensorflow.keras.models import Sequential\n",
        "from tensorflow.keras.layers import InputLayer, BatchNormalization, Dropout, Flatten, Dense, Activation, MaxPool2D, Conv2D\n",
        "from tensorflow.keras.callbacks import EarlyStopping, ModelCheckpoint\n",
        "from tensorflow.keras.applications.vgg16 import VGG16 # VGG16\n",
        "from tensorflow.keras.applications.vgg19 import VGG19 # VGG19\n",
        "from tensorflow.keras.applications.resnet50 import ResNet50 # ResNet50\n",
        "from tensorflow.keras.applications.xception import Xception # Xception\n",
        "from tensorflow.keras.applications.mobilenet import MobileNet # MobileNet\n",
        "from tensorflow.keras.applications.nasnet import NASNetMobile # NASNetMobile\n",
        "from tensorflow.keras.applications.densenet import DenseNet169 # DenseNet169\n",
        "from tensorflow.keras.applications.densenet import DenseNet121 # DenseNet121\n",
        "from tensorflow.keras.applications.mobilenet_v2 import MobileNetV2 # MobileNetV2\n",
        "from tensorflow.keras.applications.inception_v3 import InceptionV3\n",
        "from tensorflow.keras.utils import to_categorical\n",
        "from keras import optimizers\n",
        "\n",
        "from keras.callbacks import Callback,ModelCheckpoint\n",
        "from keras.models import Sequential,load_model\n",
        "from keras.layers import Dense, Dropout\n",
        "from keras.wrappers.scikit_learn import KerasClassifier\n",
        "import keras.backend as K\n",
        "\n",
        "#import tensorflow_addons as tfa\n",
        "#from tensorflow.keras.metrics import Metric\n",
        "#from tensorflow_addons.utils.types import AcceptableDTypes, FloatTensorLike\n",
        "from typeguard import typechecked\n",
        "from typing import Optional"
      ],
      "metadata": {
        "id": "Y3_RB04_cZNe"
      },
      "execution_count": 3,
      "outputs": []
    },
    {
      "cell_type": "code",
      "source": [
        "AUTOTUNE = tf.data.experimental.AUTOTUNE"
      ],
      "metadata": {
        "id": "JKwDV4Zccb5r"
      },
      "execution_count": 4,
      "outputs": []
    },
    {
      "cell_type": "code",
      "source": [
        "train_datagen = ImageDataGenerator(rescale = 1./255,\n",
        "                                   rotation_range=30,\n",
        "                                   zoom_range=0.2,\n",
        "                                   horizontal_flip=True,\n",
        "                                   vertical_flip=True,\n",
        "                                   validation_split = 0.2)\n",
        "\n",
        "valid_datagen = ImageDataGenerator(rescale = 1./255,\n",
        "                                   validation_split = 0.2)\n",
        "\n",
        "test_datagen  = ImageDataGenerator(rescale = 1./255)"
      ],
      "metadata": {
        "id": "7aQvMem_cmfi"
      },
      "execution_count": 5,
      "outputs": []
    },
    {
      "cell_type": "code",
      "source": [
        "train_dataset  = train_datagen.flow_from_directory(directory = '/content/Alzheimer_s Dataset/train',\n",
        "                                                   target_size = (224,224),\n",
        "                                                   class_mode = 'categorical',\n",
        "                                                   subset = 'training',\n",
        "                                                   batch_size = 128)"
      ],
      "metadata": {
        "colab": {
          "base_uri": "https://localhost:8080/"
        },
        "id": "MYDs5v8TcoDX",
        "outputId": "412b22a0-a7a9-406a-b42e-d8d7378c746d"
      },
      "execution_count": 7,
      "outputs": [
        {
          "output_type": "stream",
          "name": "stdout",
          "text": [
            "Found 4098 images belonging to 4 classes.\n"
          ]
        }
      ]
    },
    {
      "cell_type": "code",
      "source": [
        "valid_dataset = valid_datagen.flow_from_directory(directory = '/content/Alzheimer_s Dataset/train',\n",
        "                                                  target_size = (224,224),\n",
        "                                                  class_mode = 'categorical',\n",
        "                                                  subset = 'validation',\n",
        "                                                  batch_size = 128)"
      ],
      "metadata": {
        "colab": {
          "base_uri": "https://localhost:8080/"
        },
        "id": "-xeM_ZK6cwzF",
        "outputId": "09f7309c-5595-4d2b-ea1f-dcf3d76544f2"
      },
      "execution_count": 8,
      "outputs": [
        {
          "output_type": "stream",
          "name": "stdout",
          "text": [
            "Found 1023 images belonging to 4 classes.\n"
          ]
        }
      ]
    },
    {
      "cell_type": "code",
      "source": [
        "# Test Data \n",
        "\n",
        "test_dataset  = test_datagen.flow_from_directory(directory = '/content/Alzheimer_s Dataset/test',\n",
        "                                                 target_size = (224,224),\n",
        "                                                 class_mode = 'categorical',\n",
        "                                                 batch_size = 128)"
      ],
      "metadata": {
        "colab": {
          "base_uri": "https://localhost:8080/"
        },
        "id": "-dd4mbE_c7TR",
        "outputId": "eed9e94e-aa63-4661-97fb-a15d37a475bc"
      },
      "execution_count": 10,
      "outputs": [
        {
          "output_type": "stream",
          "name": "stdout",
          "text": [
            "Found 1279 images belonging to 4 classes.\n"
          ]
        }
      ]
    },
    {
      "cell_type": "code",
      "source": [
        "#feature preprocessing and label encoding."
      ],
      "metadata": {
        "id": "5ykJAj0Cc-dL"
      },
      "execution_count": 11,
      "outputs": []
    },
    {
      "cell_type": "code",
      "source": [
        "#MODEL BUILDING"
      ],
      "metadata": {
        "id": "CmyFpD__dKBn"
      },
      "execution_count": 12,
      "outputs": []
    },
    {
      "cell_type": "code",
      "source": [
        "base_model = DenseNet169(input_shape=(224,224,3), \n",
        "                         include_top=False,\n",
        "                         weights=\"imagenet\")"
      ],
      "metadata": {
        "colab": {
          "base_uri": "https://localhost:8080/"
        },
        "id": "nLImvdcldNVy",
        "outputId": "7b445cde-1358-46b8-d6be-8f6d73de4f38"
      },
      "execution_count": 13,
      "outputs": [
        {
          "output_type": "stream",
          "name": "stdout",
          "text": [
            "Downloading data from https://storage.googleapis.com/tensorflow/keras-applications/densenet/densenet169_weights_tf_dim_ordering_tf_kernels_notop.h5\n",
            "51877672/51877672 [==============================] - 4s 0us/step\n"
          ]
        }
      ]
    },
    {
      "cell_type": "code",
      "source": [
        "# Freezing Layers\n",
        "\n",
        "for layer in base_model.layers:\n",
        "    layer.trainable=False"
      ],
      "metadata": {
        "id": "y_bjwGnKdQ5v"
      },
      "execution_count": 14,
      "outputs": []
    },
    {
      "cell_type": "code",
      "source": [
        "# Building Model\n",
        "\n",
        "model=Sequential()\n",
        "model.add(base_model)\n",
        "model.add(Dropout(0.5))\n",
        "model.add(Flatten())\n",
        "model.add(BatchNormalization())\n",
        "model.add(Dense(2048,kernel_initializer='he_uniform'))\n",
        "model.add(BatchNormalization())\n",
        "model.add(Activation('relu'))\n",
        "model.add(Dropout(0.5))\n",
        "model.add(Dense(1024,kernel_initializer='he_uniform'))\n",
        "model.add(BatchNormalization())\n",
        "model.add(Activation('relu'))\n",
        "model.add(Dropout(0.5))\n",
        "model.add(Dense(4,activation='softmax'))"
      ],
      "metadata": {
        "id": "2EjpFWledcNc"
      },
      "execution_count": 15,
      "outputs": []
    },
    {
      "cell_type": "code",
      "source": [
        "# Summary\n",
        "\n",
        "model.summary()"
      ],
      "metadata": {
        "colab": {
          "base_uri": "https://localhost:8080/"
        },
        "id": "WfjduITpdfLI",
        "outputId": "7bc58610-fbee-4989-e98c-c35ff4c12660"
      },
      "execution_count": 16,
      "outputs": [
        {
          "output_type": "stream",
          "name": "stdout",
          "text": [
            "Model: \"sequential\"\n",
            "_________________________________________________________________\n",
            " Layer (type)                Output Shape              Param #   \n",
            "=================================================================\n",
            " densenet169 (Functional)    (None, 7, 7, 1664)        12642880  \n",
            "                                                                 \n",
            " dropout (Dropout)           (None, 7, 7, 1664)        0         \n",
            "                                                                 \n",
            " flatten (Flatten)           (None, 81536)             0         \n",
            "                                                                 \n",
            " batch_normalization (BatchN  (None, 81536)            326144    \n",
            " ormalization)                                                   \n",
            "                                                                 \n",
            " dense (Dense)               (None, 2048)              166987776 \n",
            "                                                                 \n",
            " batch_normalization_1 (Batc  (None, 2048)             8192      \n",
            " hNormalization)                                                 \n",
            "                                                                 \n",
            " activation (Activation)     (None, 2048)              0         \n",
            "                                                                 \n",
            " dropout_1 (Dropout)         (None, 2048)              0         \n",
            "                                                                 \n",
            " dense_1 (Dense)             (None, 1024)              2098176   \n",
            "                                                                 \n",
            " batch_normalization_2 (Batc  (None, 1024)             4096      \n",
            " hNormalization)                                                 \n",
            "                                                                 \n",
            " activation_1 (Activation)   (None, 1024)              0         \n",
            "                                                                 \n",
            " dropout_2 (Dropout)         (None, 1024)              0         \n",
            "                                                                 \n",
            " dense_2 (Dense)             (None, 4)                 4100      \n",
            "                                                                 \n",
            "=================================================================\n",
            "Total params: 182,071,364\n",
            "Trainable params: 169,259,268\n",
            "Non-trainable params: 12,812,096\n",
            "_________________________________________________________________\n"
          ]
        }
      ]
    },
    {
      "cell_type": "code",
      "source": [
        "def f1_score(y_true, y_pred): \n",
        "    true_positives = K.sum(K.round(K.clip(y_true * y_pred, 0, 1)))\n",
        "    possible_positives = K.sum(K.round(K.clip(y_true, 0, 1)))\n",
        "    predicted_positives = K.sum(K.round(K.clip(y_pred, 0, 1)))\n",
        "    precision = true_positives / (predicted_positives + K.epsilon())\n",
        "    recall = true_positives / (possible_positives + K.epsilon())\n",
        "    f1_val = 2*(precision*recall)/(precision+recall+K.epsilon())\n",
        "    return f1_val"
      ],
      "metadata": {
        "id": "y6vNqTXudgfE"
      },
      "execution_count": 17,
      "outputs": []
    },
    {
      "cell_type": "code",
      "source": [
        "METRICS = [\n",
        "      tf.keras.metrics.BinaryAccuracy(name='accuracy'),\n",
        "      tf.keras.metrics.Precision(name='precision'),\n",
        "      tf.keras.metrics.Recall(name='recall'),  \n",
        "      tf.keras.metrics.AUC(name='auc'),\n",
        "        f1_score,\n",
        "]"
      ],
      "metadata": {
        "id": "g61NwshOdnPP"
      },
      "execution_count": 18,
      "outputs": []
    },
    {
      "cell_type": "code",
      "source": [
        "# Model Compile \n",
        "\n",
        "OPT    = tensorflow.keras.optimizers.Adam(learning_rate=0.001)\n",
        "\n",
        "model.compile(loss='categorical_crossentropy',\n",
        "              metrics=METRICS,\n",
        "              optimizer=OPT)"
      ],
      "metadata": {
        "id": "1Tm-lkvMd5Mn"
      },
      "execution_count": 19,
      "outputs": []
    },
    {
      "cell_type": "code",
      "source": [
        "# Defining Callbacks\n",
        "\n",
        "filepath = '/content/drive/MyDrive/Colab Notebooks/the_weights.hdf5'\n",
        "\n",
        "earlystopping = EarlyStopping(monitor = 'val_auc', \n",
        "                              mode = 'max' , \n",
        "                              patience = 15,\n",
        "                              verbose = 1)\n",
        "\n",
        "checkpoint    = ModelCheckpoint(filepath, \n",
        "                                monitor = 'val_auc', \n",
        "                                mode='max', \n",
        "                                save_best_only=True, \n",
        "                                verbose = 1)\n",
        "\n",
        "\n",
        "callback_list = [earlystopping, checkpoint]"
      ],
      "metadata": {
        "id": "irUDK1ZYd_Qw"
      },
      "execution_count": 21,
      "outputs": []
    },
    {
      "cell_type": "code",
      "source": [
        "history=model.fit(train_dataset,\n",
        "                        validation_data=valid_dataset,\n",
        "                        epochs = 100,\n",
        "                        callbacks = callback_list,\n",
        "                        verbose = 1)"
      ],
      "metadata": {
        "colab": {
          "base_uri": "https://localhost:8080/"
        },
        "id": "cmzbMDOoeToD",
        "outputId": "9afe0177-e953-4367-d025-e43c1e2b5024"
      },
      "execution_count": 22,
      "outputs": [
        {
          "output_type": "stream",
          "name": "stdout",
          "text": [
            "Epoch 1/100\n",
            "33/33 [==============================] - ETA: 0s - loss: 1.3196 - accuracy: 0.7651 - precision: 0.5340 - recall: 0.4736 - auc: 0.7891 - f1_score: 0.4858\n",
            "Epoch 1: val_auc improved from -inf to 0.68879, saving model to /content/drive/MyDrive/Colab Notebooks/the_weights.hdf5\n",
            "33/33 [==============================] - 90s 2s/step - loss: 1.3196 - accuracy: 0.7651 - precision: 0.5340 - recall: 0.4736 - auc: 0.7891 - f1_score: 0.4858 - val_loss: 4.9556 - val_accuracy: 0.7542 - val_precision: 0.5084 - val_recall: 0.5015 - val_auc: 0.6888 - val_f1_score: 0.5049\n",
            "Epoch 2/100\n",
            "33/33 [==============================] - ETA: 0s - loss: 1.0741 - accuracy: 0.7933 - precision: 0.5986 - recall: 0.5251 - auc: 0.8346 - f1_score: 0.5577\n",
            "Epoch 2: val_auc improved from 0.68879 to 0.70645, saving model to /content/drive/MyDrive/Colab Notebooks/the_weights.hdf5\n",
            "33/33 [==============================] - 67s 2s/step - loss: 1.0741 - accuracy: 0.7933 - precision: 0.5986 - recall: 0.5251 - auc: 0.8346 - f1_score: 0.5577 - val_loss: 2.3101 - val_accuracy: 0.7114 - val_precision: 0.4172 - val_recall: 0.3891 - val_auc: 0.7065 - val_f1_score: 0.4029\n",
            "Epoch 3/100\n",
            "33/33 [==============================] - ETA: 0s - loss: 1.0082 - accuracy: 0.8012 - precision: 0.6180 - recall: 0.5368 - auc: 0.8464 - f1_score: 0.5572\n",
            "Epoch 3: val_auc improved from 0.70645 to 0.78513, saving model to /content/drive/MyDrive/Colab Notebooks/the_weights.hdf5\n",
            "33/33 [==============================] - 64s 2s/step - loss: 1.0082 - accuracy: 0.8012 - precision: 0.6180 - recall: 0.5368 - auc: 0.8464 - f1_score: 0.5572 - val_loss: 1.6291 - val_accuracy: 0.7627 - val_precision: 0.5273 - val_recall: 0.4907 - val_auc: 0.7851 - val_f1_score: 0.5082\n",
            "Epoch 4/100\n",
            "33/33 [==============================] - ETA: 0s - loss: 0.9066 - accuracy: 0.8160 - precision: 0.6505 - recall: 0.5705 - auc: 0.8649 - f1_score: 0.6046\n",
            "Epoch 4: val_auc did not improve from 0.78513\n",
            "33/33 [==============================] - 55s 2s/step - loss: 0.9066 - accuracy: 0.8160 - precision: 0.6505 - recall: 0.5705 - auc: 0.8649 - f1_score: 0.6046 - val_loss: 1.4080 - val_accuracy: 0.7556 - val_precision: 0.5131 - val_recall: 0.4418 - val_auc: 0.7783 - val_f1_score: 0.4752\n",
            "Epoch 5/100\n",
            "33/33 [==============================] - ETA: 0s - loss: 0.8842 - accuracy: 0.8197 - precision: 0.6590 - recall: 0.5781 - auc: 0.8724 - f1_score: 0.6271\n",
            "Epoch 5: val_auc did not improve from 0.78513\n",
            "33/33 [==============================] - 53s 2s/step - loss: 0.8842 - accuracy: 0.8197 - precision: 0.6590 - recall: 0.5781 - auc: 0.8724 - f1_score: 0.6271 - val_loss: 1.2442 - val_accuracy: 0.7649 - val_precision: 0.5383 - val_recall: 0.4194 - val_auc: 0.7812 - val_f1_score: 0.4713\n",
            "Epoch 6/100\n",
            "33/33 [==============================] - ETA: 0s - loss: 0.8212 - accuracy: 0.8289 - precision: 0.6796 - recall: 0.5969 - auc: 0.8837 - f1_score: 0.6315\n",
            "Epoch 6: val_auc did not improve from 0.78513\n",
            "33/33 [==============================] - 52s 2s/step - loss: 0.8212 - accuracy: 0.8289 - precision: 0.6796 - recall: 0.5969 - auc: 0.8837 - f1_score: 0.6315 - val_loss: 1.2358 - val_accuracy: 0.7515 - val_precision: 0.5038 - val_recall: 0.3881 - val_auc: 0.7656 - val_f1_score: 0.4382\n",
            "Epoch 7/100\n",
            "33/33 [==============================] - ETA: 0s - loss: 0.8000 - accuracy: 0.8362 - precision: 0.6970 - recall: 0.6101 - auc: 0.8906 - f1_score: 0.6459\n",
            "Epoch 7: val_auc improved from 0.78513 to 0.80557, saving model to /content/drive/MyDrive/Colab Notebooks/the_weights.hdf5\n",
            "33/33 [==============================] - 67s 2s/step - loss: 0.8000 - accuracy: 0.8362 - precision: 0.6970 - recall: 0.6101 - auc: 0.8906 - f1_score: 0.6459 - val_loss: 1.1629 - val_accuracy: 0.7637 - val_precision: 0.5322 - val_recall: 0.4526 - val_auc: 0.8056 - val_f1_score: 0.4893\n",
            "Epoch 8/100\n",
            "33/33 [==============================] - ETA: 0s - loss: 0.7789 - accuracy: 0.8344 - precision: 0.6928 - recall: 0.6064 - auc: 0.8941 - f1_score: 0.6472\n",
            "Epoch 8: val_auc improved from 0.80557 to 0.81148, saving model to /content/drive/MyDrive/Colab Notebooks/the_weights.hdf5\n",
            "33/33 [==============================] - 66s 2s/step - loss: 0.7789 - accuracy: 0.8344 - precision: 0.6928 - recall: 0.6064 - auc: 0.8941 - f1_score: 0.6472 - val_loss: 1.1195 - val_accuracy: 0.7644 - val_precision: 0.5338 - val_recall: 0.4555 - val_auc: 0.8115 - val_f1_score: 0.4917\n",
            "Epoch 9/100\n",
            "33/33 [==============================] - ETA: 0s - loss: 0.7354 - accuracy: 0.8416 - precision: 0.7068 - recall: 0.6264 - auc: 0.9040 - f1_score: 0.6741\n",
            "Epoch 9: val_auc improved from 0.81148 to 0.81519, saving model to /content/drive/MyDrive/Colab Notebooks/the_weights.hdf5\n",
            "33/33 [==============================] - 65s 2s/step - loss: 0.7354 - accuracy: 0.8416 - precision: 0.7068 - recall: 0.6264 - auc: 0.9040 - f1_score: 0.6741 - val_loss: 1.1558 - val_accuracy: 0.7803 - val_precision: 0.5718 - val_recall: 0.4829 - val_auc: 0.8152 - val_f1_score: 0.5236\n",
            "Epoch 10/100\n",
            "33/33 [==============================] - ETA: 0s - loss: 0.7296 - accuracy: 0.8461 - precision: 0.7156 - recall: 0.6379 - auc: 0.9064 - f1_score: 0.6542\n",
            "Epoch 10: val_auc improved from 0.81519 to 0.81826, saving model to /content/drive/MyDrive/Colab Notebooks/the_weights.hdf5\n",
            "33/33 [==============================] - 66s 2s/step - loss: 0.7296 - accuracy: 0.8461 - precision: 0.7156 - recall: 0.6379 - auc: 0.9064 - f1_score: 0.6542 - val_loss: 1.1214 - val_accuracy: 0.7715 - val_precision: 0.5502 - val_recall: 0.4712 - val_auc: 0.8183 - val_f1_score: 0.5075\n",
            "Epoch 11/100\n",
            "33/33 [==============================] - ETA: 0s - loss: 0.7384 - accuracy: 0.8445 - precision: 0.7103 - recall: 0.6384 - auc: 0.9037 - f1_score: 0.6672\n",
            "Epoch 11: val_auc improved from 0.81826 to 0.85266, saving model to /content/drive/MyDrive/Colab Notebooks/the_weights.hdf5\n",
            "33/33 [==============================] - 71s 2s/step - loss: 0.7384 - accuracy: 0.8445 - precision: 0.7103 - recall: 0.6384 - auc: 0.9037 - f1_score: 0.6672 - val_loss: 0.9501 - val_accuracy: 0.7962 - val_precision: 0.6078 - val_recall: 0.5210 - val_auc: 0.8527 - val_f1_score: 0.5605\n",
            "Epoch 12/100\n",
            "33/33 [==============================] - ETA: 0s - loss: 0.6997 - accuracy: 0.8500 - precision: 0.7232 - recall: 0.6479 - auc: 0.9115 - f1_score: 0.6927\n",
            "Epoch 12: val_auc did not improve from 0.85266\n",
            "33/33 [==============================] - 55s 2s/step - loss: 0.6997 - accuracy: 0.8500 - precision: 0.7232 - recall: 0.6479 - auc: 0.9115 - f1_score: 0.6927 - val_loss: 1.1299 - val_accuracy: 0.7590 - val_precision: 0.5214 - val_recall: 0.4399 - val_auc: 0.8044 - val_f1_score: 0.4768\n",
            "Epoch 13/100\n",
            "33/33 [==============================] - ETA: 0s - loss: 0.6718 - accuracy: 0.8590 - precision: 0.7441 - recall: 0.6642 - auc: 0.9190 - f1_score: 0.6958\n",
            "Epoch 13: val_auc did not improve from 0.85266\n",
            "33/33 [==============================] - 52s 2s/step - loss: 0.6718 - accuracy: 0.8590 - precision: 0.7441 - recall: 0.6642 - auc: 0.9190 - f1_score: 0.6958 - val_loss: 1.1526 - val_accuracy: 0.7686 - val_precision: 0.5430 - val_recall: 0.4692 - val_auc: 0.8147 - val_f1_score: 0.5029\n",
            "Epoch 14/100\n",
            "33/33 [==============================] - ETA: 0s - loss: 0.6887 - accuracy: 0.8555 - precision: 0.7335 - recall: 0.6630 - auc: 0.9152 - f1_score: 0.6756\n",
            "Epoch 14: val_auc did not improve from 0.85266\n",
            "33/33 [==============================] - 51s 2s/step - loss: 0.6887 - accuracy: 0.8555 - precision: 0.7335 - recall: 0.6630 - auc: 0.9152 - f1_score: 0.6756 - val_loss: 1.2220 - val_accuracy: 0.7652 - val_precision: 0.5339 - val_recall: 0.4770 - val_auc: 0.8099 - val_f1_score: 0.5037\n",
            "Epoch 15/100\n",
            "33/33 [==============================] - ETA: 0s - loss: 0.6444 - accuracy: 0.8651 - precision: 0.7527 - recall: 0.6857 - auc: 0.9253 - f1_score: 0.7110\n",
            "Epoch 15: val_auc did not improve from 0.85266\n",
            "33/33 [==============================] - 52s 2s/step - loss: 0.6444 - accuracy: 0.8651 - precision: 0.7527 - recall: 0.6857 - auc: 0.9253 - f1_score: 0.7110 - val_loss: 1.1568 - val_accuracy: 0.7783 - val_precision: 0.5637 - val_recall: 0.5015 - val_auc: 0.8224 - val_f1_score: 0.5305\n",
            "Epoch 16/100\n",
            "33/33 [==============================] - ETA: 0s - loss: 0.6630 - accuracy: 0.8610 - precision: 0.7440 - recall: 0.6772 - auc: 0.9218 - f1_score: 0.7025\n",
            "Epoch 16: val_auc did not improve from 0.85266\n",
            "33/33 [==============================] - 53s 2s/step - loss: 0.6630 - accuracy: 0.8610 - precision: 0.7440 - recall: 0.6772 - auc: 0.9218 - f1_score: 0.7025 - val_loss: 1.1216 - val_accuracy: 0.7874 - val_precision: 0.5849 - val_recall: 0.5152 - val_auc: 0.8340 - val_f1_score: 0.5474\n",
            "Epoch 17/100\n",
            "33/33 [==============================] - ETA: 0s - loss: 0.6376 - accuracy: 0.8643 - precision: 0.7550 - recall: 0.6767 - auc: 0.9265 - f1_score: 0.7072\n",
            "Epoch 17: val_auc did not improve from 0.85266\n",
            "33/33 [==============================] - 51s 2s/step - loss: 0.6376 - accuracy: 0.8643 - precision: 0.7550 - recall: 0.6767 - auc: 0.9265 - f1_score: 0.7072 - val_loss: 1.2824 - val_accuracy: 0.7527 - val_precision: 0.5063 - val_recall: 0.4330 - val_auc: 0.7903 - val_f1_score: 0.4667\n",
            "Epoch 18/100\n",
            "33/33 [==============================] - ETA: 0s - loss: 0.6459 - accuracy: 0.8626 - precision: 0.7455 - recall: 0.6840 - auc: 0.9249 - f1_score: 0.6921\n",
            "Epoch 18: val_auc did not improve from 0.85266\n",
            "33/33 [==============================] - 51s 2s/step - loss: 0.6459 - accuracy: 0.8626 - precision: 0.7455 - recall: 0.6840 - auc: 0.9249 - f1_score: 0.6921 - val_loss: 1.1524 - val_accuracy: 0.7708 - val_precision: 0.5464 - val_recall: 0.4888 - val_auc: 0.8206 - val_f1_score: 0.5161\n",
            "Epoch 19/100\n",
            "33/33 [==============================] - ETA: 0s - loss: 0.6409 - accuracy: 0.8635 - precision: 0.7497 - recall: 0.6818 - auc: 0.9258 - f1_score: 0.7227\n",
            "Epoch 19: val_auc did not improve from 0.85266\n",
            "33/33 [==============================] - 52s 2s/step - loss: 0.6409 - accuracy: 0.8635 - precision: 0.7497 - recall: 0.6818 - auc: 0.9258 - f1_score: 0.7227 - val_loss: 1.3033 - val_accuracy: 0.7534 - val_precision: 0.5075 - val_recall: 0.4624 - val_auc: 0.7985 - val_f1_score: 0.4838\n",
            "Epoch 20/100\n",
            "33/33 [==============================] - ETA: 0s - loss: 0.6117 - accuracy: 0.8696 - precision: 0.7616 - recall: 0.6962 - auc: 0.9309 - f1_score: 0.7254\n",
            "Epoch 20: val_auc did not improve from 0.85266\n",
            "33/33 [==============================] - 51s 2s/step - loss: 0.6117 - accuracy: 0.8696 - precision: 0.7616 - recall: 0.6962 - auc: 0.9309 - f1_score: 0.7254 - val_loss: 1.1360 - val_accuracy: 0.7776 - val_precision: 0.5597 - val_recall: 0.5181 - val_auc: 0.8336 - val_f1_score: 0.5377\n",
            "Epoch 21/100\n",
            "33/33 [==============================] - ETA: 0s - loss: 0.6103 - accuracy: 0.8718 - precision: 0.7669 - recall: 0.7001 - auc: 0.9324 - f1_score: 0.7399\n",
            "Epoch 21: val_auc did not improve from 0.85266\n",
            "33/33 [==============================] - 54s 2s/step - loss: 0.6103 - accuracy: 0.8718 - precision: 0.7669 - recall: 0.7001 - auc: 0.9324 - f1_score: 0.7399 - val_loss: 1.3150 - val_accuracy: 0.7647 - val_precision: 0.5318 - val_recall: 0.4897 - val_auc: 0.8113 - val_f1_score: 0.5097\n",
            "Epoch 22/100\n",
            "33/33 [==============================] - ETA: 0s - loss: 0.5909 - accuracy: 0.8730 - precision: 0.7696 - recall: 0.7025 - auc: 0.9357 - f1_score: 0.7275\n",
            "Epoch 22: val_auc did not improve from 0.85266\n",
            "33/33 [==============================] - 52s 2s/step - loss: 0.5909 - accuracy: 0.8730 - precision: 0.7696 - recall: 0.7025 - auc: 0.9357 - f1_score: 0.7275 - val_loss: 1.1551 - val_accuracy: 0.7815 - val_precision: 0.5711 - val_recall: 0.5064 - val_auc: 0.8279 - val_f1_score: 0.5367\n",
            "Epoch 23/100\n",
            "33/33 [==============================] - ETA: 0s - loss: 0.5854 - accuracy: 0.8772 - precision: 0.7769 - recall: 0.7138 - auc: 0.9372 - f1_score: 0.7365\n",
            "Epoch 23: val_auc did not improve from 0.85266\n",
            "33/33 [==============================] - 51s 2s/step - loss: 0.5854 - accuracy: 0.8772 - precision: 0.7769 - recall: 0.7138 - auc: 0.9372 - f1_score: 0.7365 - val_loss: 1.1611 - val_accuracy: 0.7776 - val_precision: 0.5616 - val_recall: 0.5034 - val_auc: 0.8273 - val_f1_score: 0.5306\n",
            "Epoch 24/100\n",
            "33/33 [==============================] - ETA: 0s - loss: 0.5725 - accuracy: 0.8760 - precision: 0.7744 - recall: 0.7111 - auc: 0.9397 - f1_score: 0.7341\n",
            "Epoch 24: val_auc did not improve from 0.85266\n",
            "33/33 [==============================] - 51s 2s/step - loss: 0.5725 - accuracy: 0.8760 - precision: 0.7744 - recall: 0.7111 - auc: 0.9397 - f1_score: 0.7341 - val_loss: 1.1238 - val_accuracy: 0.7815 - val_precision: 0.5716 - val_recall: 0.5034 - val_auc: 0.8316 - val_f1_score: 0.5352\n",
            "Epoch 25/100\n",
            "33/33 [==============================] - ETA: 0s - loss: 0.6097 - accuracy: 0.8737 - precision: 0.7688 - recall: 0.7077 - auc: 0.9333 - f1_score: 0.7148\n",
            "Epoch 25: val_auc did not improve from 0.85266\n",
            "33/33 [==============================] - 50s 2s/step - loss: 0.6097 - accuracy: 0.8737 - precision: 0.7688 - recall: 0.7077 - auc: 0.9333 - f1_score: 0.7148 - val_loss: 1.3026 - val_accuracy: 0.7620 - val_precision: 0.5267 - val_recall: 0.4721 - val_auc: 0.8017 - val_f1_score: 0.4976\n",
            "Epoch 26/100\n",
            "33/33 [==============================] - ETA: 0s - loss: 0.5716 - accuracy: 0.8788 - precision: 0.7787 - recall: 0.7196 - auc: 0.9401 - f1_score: 0.7454\n",
            "Epoch 26: val_auc did not improve from 0.85266\n",
            "33/33 [==============================] - 50s 2s/step - loss: 0.5716 - accuracy: 0.8788 - precision: 0.7787 - recall: 0.7196 - auc: 0.9401 - f1_score: 0.7454 - val_loss: 1.1334 - val_accuracy: 0.7835 - val_precision: 0.5752 - val_recall: 0.5122 - val_auc: 0.8334 - val_f1_score: 0.5416\n",
            "Epoch 26: early stopping\n"
          ]
        }
      ]
    },
    {
      "cell_type": "code",
      "source": [
        "#%% PLOTTING RESULTS (Train vs Validation FOLDER 1)\n",
        "\n",
        "def Train_Val_Plot(acc,val_acc,loss,val_loss,auc,val_auc,precision,val_precision,f1,val_f1):\n",
        "    \n",
        "    fig, (ax1, ax2,ax3,ax4,ax5) = plt.subplots(1,5, figsize= (20,5))\n",
        "    fig.suptitle(\" MODEL'S METRICS VISUALIZATION \")\n",
        "\n",
        "    ax1.plot(range(1, len(acc) + 1), acc)\n",
        "    ax1.plot(range(1, len(val_acc) + 1), val_acc)\n",
        "    ax1.set_title('History of Accuracy')\n",
        "    ax1.set_xlabel('Epochs')\n",
        "    ax1.set_ylabel('Accuracy')\n",
        "    ax1.legend(['training', 'validation'])\n",
        "\n",
        "\n",
        "    ax2.plot(range(1, len(loss) + 1), loss)\n",
        "    ax2.plot(range(1, len(val_loss) + 1), val_loss)\n",
        "    ax2.set_title('History of Loss')\n",
        "    ax2.set_xlabel('Epochs')\n",
        "    ax2.set_ylabel('Loss')\n",
        "    ax2.legend(['training', 'validation'])\n",
        "    \n",
        "    ax3.plot(range(1, len(auc) + 1), auc)\n",
        "    ax3.plot(range(1, len(val_auc) + 1), val_auc)\n",
        "    ax3.set_title('History of AUC')\n",
        "    ax3.set_xlabel('Epochs')\n",
        "    ax3.set_ylabel('AUC')\n",
        "    ax3.legend(['training', 'validation'])\n",
        "    \n",
        "    ax4.plot(range(1, len(precision) + 1), precision)\n",
        "    ax4.plot(range(1, len(val_precision) + 1), val_precision)\n",
        "    ax4.set_title('History of Precision')\n",
        "    ax4.set_xlabel('Epochs')\n",
        "    ax4.set_ylabel('Precision')\n",
        "    ax4.legend(['training', 'validation'])\n",
        "    \n",
        "    ax5.plot(range(1, len(f1) + 1), f1)\n",
        "    ax5.plot(range(1, len(val_f1) + 1), val_f1)\n",
        "    ax5.set_title('History of F1-score')\n",
        "    ax5.set_xlabel('Epochs')\n",
        "    ax5.set_ylabel('F1 score')\n",
        "    ax5.legend(['training', 'validation'])\n",
        "\n",
        "\n",
        "    plt.show()\n",
        "    \n",
        "\n",
        "Train_Val_Plot(history.history['accuracy'],history.history['val_accuracy'],\n",
        "               history.history['loss'],history.history['val_loss'],\n",
        "               history.history['auc'],history.history['val_auc'],\n",
        "               history.history['precision'],history.history['val_precision'],\n",
        "               history.history['f1_score'],history.history['val_f1_score']\n",
        "              )"
      ],
      "metadata": {
        "colab": {
          "base_uri": "https://localhost:8080/",
          "height": 370
        },
        "id": "h1ZXeibNkLR_",
        "outputId": "842aa86e-bd41-4df2-849d-3d8e2239c534"
      },
      "execution_count": 23,
      "outputs": [
        {
          "output_type": "display_data",
          "data": {
            "text/plain": [
              "<Figure size 1440x360 with 5 Axes>"
            ],
            "image/png": "[encoded data removed]"
          },
          "metadata": {
            "needs_background": "light"
          }
        }
      ]
    },
    {
      "cell_type": "code",
      "source": [
        "scores = model.evaluate(test_dataset)"
      ],
      "metadata": {
        "colab": {
          "base_uri": "https://localhost:8080/"
        },
        "id": "CbvvgXyOkVWn",
        "outputId": "1b2c03b1-cada-433b-e1d6-fff1b9804e50"
      },
      "execution_count": 24,
      "outputs": [
        {
          "output_type": "stream",
          "name": "stdout",
          "text": [
            "10/10 [==============================] - 5s 439ms/step - loss: 0.9694 - accuracy: 0.8385 - precision: 0.6837 - recall: 0.6591 - auc: 0.8889 - f1_score: 0.6711\n"
          ]
        }
      ]
    },
    {
      "cell_type": "code",
      "source": [
        "print(\"Accuracy = \", scores[1])\n",
        "print(\"Precision = \", scores[2])\n",
        "print(\"Recall = \", scores[3])\n",
        "print(\"AUC = \", scores[4])\n",
        "print(\"F1_score = \", scores[5])"
      ],
      "metadata": {
        "colab": {
          "base_uri": "https://localhost:8080/"
        },
        "id": "T1x3ZarNkYRp",
        "outputId": "f4fabd74-196b-40b9-d7b9-e32c9b6cd3a6"
      },
      "execution_count": 25,
      "outputs": [
        {
          "output_type": "stream",
          "name": "stdout",
          "text": [
            "Accuracy =  0.8385457396507263\n",
            "Precision =  0.683698296546936\n",
            "Recall =  0.6591086983680725\n",
            "AUC =  0.8888832330703735\n",
            "F1_score =  0.6710734367370605\n"
          ]
        }
      ]
    }
  ]
}